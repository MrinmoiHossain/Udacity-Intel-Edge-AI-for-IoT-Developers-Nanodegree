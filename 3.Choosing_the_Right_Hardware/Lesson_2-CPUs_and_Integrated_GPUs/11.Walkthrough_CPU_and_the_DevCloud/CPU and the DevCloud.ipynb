{
 "cells": [
  {
   "cell_type": "markdown",
   "metadata": {
    "graffitiCellId": "id_h40ha00"
   },
   "source": [
    "# Walkthrough: CPU and the DevCloud\n",
    "\n",
    "This notebook is a demonstration showing you how to request an edge node with an Intel Xeon CPU and load a model on the CPU using Udacity's workspace integration with Intel's DevCloud. This notebook is just to give you an overview of the process (you won't be writing any code). In the next workspace, you'll be given TODO items to complete. \n",
    "\n",
    "Below are the six steps we'll walk through in this notebook:\n",
    "\n",
    "1. Creating a Python script to load the model\n",
    "2. Creating a job submission script\n",
    "3. Submitting a job using the `qsub` command\n",
    "4. Checking the job status using the `liveQStat` function\n",
    "5. Retrieving the output files using the `getResults` function\n",
    "6. Viewing the resulting output\n",
    "\n",
    "Click the **Introduction to CPU and the DevCloud** button below for a quick overview of the process. We'll then walk through each step."
   ]
  },
  {
   "cell_type": "markdown",
   "metadata": {
    "graffitiCellId": "id_8slm0hz"
   },
   "source": [
    "<span class=\"graffiti-highlight graffiti-id_8slm0hz-id_d966e2j\"><i></i><button>Introduction to CPU and the Devcloud </button></span>"
   ]
  },
  {
   "cell_type": "markdown",
   "metadata": {
    "graffitiCellId": "id_l97xcwh"
   },
   "source": [
    "#### IMPORTANT: Set up paths so we can run Dev Cloud utilities\n",
    "You *must* run this every time you enter a Workspace session."
   ]
  },
  {
   "cell_type": "code",
   "execution_count": null,
   "metadata": {
    "graffitiCellId": "id_j8hnigh"
   },
   "outputs": [],
   "source": [
    "%env PATH=/opt/conda/bin:/opt/spark-2.4.3-bin-hadoop2.7/bin:/opt/conda/bin:/usr/local/sbin:/usr/local/bin:/usr/sbin:/usr/bin:/sbin:/bin:/opt/intel_devcloud_support\n",
    "import os\n",
    "import sys\n",
    "sys.path.insert(0, os.path.abspath('/opt/intel_devcloud_support'))\n",
    "sys.path.insert(0, os.path.abspath('/opt/intel'))"
   ]
  },
  {
   "cell_type": "markdown",
   "metadata": {
    "graffitiCellId": "id_iuqq226"
   },
   "source": [
    "## The Model\n",
    "\n",
    "We will be using the `vehicle-license-plate-detection-barrier-0106` model for this exercise. Remember that to run a model on the CPU, we need to use `FP32` as the model precision.\n",
    "\n",
    "The model has already been downloaded for you in the `/data/models/intel` directory on Intel's DevCloud. We will be using the following filepath during the job submission in **Step 3**:\n",
    "\n",
    "> **/data/models/intel/vehicle-license-plate-detection-barrier-0106/FP32/vehicle-license-plate-detection-barrier-0106**"
   ]
  },
  {
   "cell_type": "markdown",
   "metadata": {
    "graffitiCellId": "id_wgg04oc"
   },
   "source": [
    "# Step 1: Creating a Python Script\n",
    "\n",
    "The first step is to create a Python script that you can use to load the model and perform an inference. I have used the `%%writefile` magic command to create a Python file called `load_model_to_cpu.py`. This will create a new Python file in the working directory.\n",
    "\n",
    "Click the **Writing a Python Script** button below for a demonstration."
   ]
  },
  {
   "cell_type": "markdown",
   "metadata": {
    "graffitiCellId": "id_ts91tfb"
   },
   "source": [
    "<span class=\"graffiti-highlight graffiti-id_ts91tfb-id_l9gmvsx\"><i></i><button>Writing a Python Script</button></span>"
   ]
  },
  {
   "cell_type": "code",
   "execution_count": null,
   "metadata": {
    "graffitiCellId": "id_o5g4utd"
   },
   "outputs": [],
   "source": [
    "%%writefile load_model_to_cpu.py\n",
    "\n",
    "import time\n",
    "from openvino.inference_engine import IENetwork\n",
    "from openvino.inference_engine import IECore\n",
    "import argparse\n",
    "\n",
    "def main(args):\n",
    "    model=args.model_path\n",
    "    model_weights=model+'.bin'\n",
    "    model_structure=model+'.xml'\n",
    "    \n",
    "    start=time.time()\n",
    "    model=IENetwork(model_structure, model_weights)\n",
    "\n",
    "    core = IECore()\n",
    "    net = core.load_network(network=model, device_name='CPU', num_requests=1)\n",
    "    print(f\"Time taken to load model on Xeon CPU = {time.time()-start} seconds\")\n",
    "\n",
    "if __name__=='__main__':\n",
    "    parser=argparse.ArgumentParser()\n",
    "    parser.add_argument('--model_path', required=True)\n",
    "    \n",
    "    args=parser.parse_args() \n",
    "    main(args)"
   ]
  },
  {
   "cell_type": "markdown",
   "metadata": {
    "graffitiCellId": "id_0cza8hm"
   },
   "source": [
    "## Step 2: Creating a Job Submission Script\n",
    "\n",
    "To submit a job to the DevCloud, we need to create a shell script. Similar to the Python script above, I have used the `%%writefile` magic command to create a shell script called `load_cpu_model_job.sh`.\n",
    "\n",
    "This script does a few things.\n",
    "1. Writes stdout and stderr to their respective .log files\n",
    "2. Creates the `/output` directory\n",
    "3. Creates a `MODELPATH` variable and assigns the value as the first argument passed to the shell script\n",
    "4. Calls the Python script using the `MODELPATH` variable value as the command line argument\n",
    "5. Changes to the `/output` directory\n",
    "6. Compresses the stdout.log and stderr.log files to `output.tgz`\n",
    "\n",
    "Click the **Creating a Job Submission Script** button below for a demonstration."
   ]
  },
  {
   "cell_type": "markdown",
   "metadata": {
    "graffitiCellId": "id_qeq3y4r"
   },
   "source": [
    "<span class=\"graffiti-highlight graffiti-id_qeq3y4r-id_v4slqmo\"><i></i><button>Creating a Job Submission Script</button></span>"
   ]
  },
  {
   "cell_type": "code",
   "execution_count": null,
   "metadata": {
    "graffitiCellId": "id_238chzp"
   },
   "outputs": [],
   "source": [
    "%%writefile load_cpu_model_job.sh\n",
    "#!/bin/bash\n",
    "\n",
    "exec 1>/output/stdout.log 2>/output/stderr.log\n",
    "\n",
    "mkdir -p /output\n",
    "\n",
    "MODELPATH=$1\n",
    "\n",
    "# Run the load model python script\n",
    "python3 load_model_to_cpu.py  --model_path ${MODELPATH}\n",
    "\n",
    "cd /output\n",
    "\n",
    "tar zcvf output.tgz stdout.log stderr.log"
   ]
  },
  {
   "cell_type": "markdown",
   "metadata": {
    "graffitiCellId": "id_48m4w93"
   },
   "source": [
    "## Step 3: Submitting a Job to Intel's DevCloud\n",
    "\n",
    "The code below will submit a job to an **IEI Tank-870** edge node with an Intel® Xeon processor. We will load the model on the CPU.\n",
    "\n",
    "The `!qsub` command takes a few command line arguments:\n",
    "1. The first argument is the shell script filename - `load_cpu_model_job.sh`. This should always be the first argument.\n",
    "2. The `-d` flag designates the directory where we want to run our job. We'll be running it in the current directory as denoted by `.`.\n",
    "3. The `-l` flag designates the node and quantity we want to request. The default quantity is 1, so the **1** after `nodes` is optional.\n",
    "4. The `-F` flag let's us pass in a string with all command line arguments we want to pass to our Python script.\n",
    "\n",
    "**Note**: There is an optional flag, `-N`, you may see in a few exercises. This is an argument that only works on Intel's DevCloud that allows you to name your job submission. This argument doesn't work in Udacity's workspace integration with Intel's DevCloud.\n",
    "\n",
    "In the cell below, we assign the returned value of the `!qsub` command to a variable `job_id_core`. This value is an array with a single string.\n",
    "\n",
    "Once the cell is run, this queues up a job on Intel's DevCloud and prints out the first value of this array below the cell, which is the job id.\n",
    "\n",
    "Click the **Submitting a Job to Intel's DevCloud** button below for a demonstration."
   ]
  },
  {
   "cell_type": "markdown",
   "metadata": {
    "graffitiCellId": "id_lvasaqx"
   },
   "source": [
    "<span class=\"graffiti-highlight graffiti-id_lvasaqx-id_g191rx7\"><i></i><button>Submitting a Job to Intel's DevCloud</button></span>"
   ]
  },
  {
   "cell_type": "code",
   "execution_count": null,
   "metadata": {
    "graffitiCellId": "id_qs4v1fs"
   },
   "outputs": [],
   "source": [
    "job_id_core = !qsub load_cpu_model_job.sh -d . -l nodes=1:tank-870:e3-1268l-v5 -F \"/data/models/intel/vehicle-license-plate-detection-barrier-0106/FP32/vehicle-license-plate-detection-barrier-0106\"\n",
    "print(job_id_core[0])"
   ]
  },
  {
   "cell_type": "markdown",
   "metadata": {
    "graffitiCellId": "id_z2p56wo"
   },
   "source": [
    "## Step 4: Running liveQStat\n",
    "\n",
    "Running the `liveQStat` function, we can see the live status of our job. Running the this function will lock the cell and poll the job status 10 times. The cell is locked until this finishes polling 10 times or you can interrupt the kernel to stop it by pressing the stop button at the top: ![stop button](assets/interrupt_kernel.png)\n",
    "\n",
    "* `Q` status means our job is currently awaiting an available node\n",
    "* `R` status means our job is currently running on the requested node\n",
    "\n",
    "**Note**: In the demonstration, it is pointed out that `W` status means your job is done. This is no longer accurate. Once a job has finished running, it will no longer show in the list when running the `liveQStat` function.\n",
    "\n",
    "Click the **Running liveQStat** button below for a demonstration."
   ]
  },
  {
   "cell_type": "markdown",
   "metadata": {
    "graffitiCellId": "id_53d5lax"
   },
   "source": [
    "<span class=\"graffiti-highlight graffiti-id_53d5lax-id_72iu65w\"><i></i><button>Running liveQStat</button></span>"
   ]
  },
  {
   "cell_type": "code",
   "execution_count": null,
   "metadata": {
    "graffitiCellId": "id_9hxbelu"
   },
   "outputs": [],
   "source": [
    "import liveQStat\n",
    "liveQStat.liveQStat()"
   ]
  },
  {
   "cell_type": "markdown",
   "metadata": {
    "graffitiCellId": "id_t5gx4r4"
   },
   "source": [
    "## Step 5: Retrieving Output Files\n",
    "\n",
    "In this step, we'll be using the `getResults` function to retrieve our job's results. This function takes a few arguments.\n",
    "\n",
    "1. `job id` - This value is stored in the `job_id_core` variable we created during **Step 3**. Remember that this value is an array with a single string, so we access the string value using `job_id_core[0]`.\n",
    "2. `filename` - This value should match the filename of the compressed file we have in our `load_cpu_model_job.sh` shell script. In this example, filename shoud be set to `output.tgz`.\n",
    "3. `blocking` - This is an optional argument and is set to `False` by default. If this is set to `True`, the cell is locked while waiting for the results to come back. There is a status indicator showing the cell is waiting on results.\n",
    "\n",
    "**Note**: The `getResults` function is unique to Udacity's workspace integration with Intel's DevCloud. When working on Intel's DevCloud environment, your job's results are automatically retrieved and placed in your working directory.\n",
    "\n",
    "Click the **Retrieving Output Files** button below for a demonstration."
   ]
  },
  {
   "cell_type": "markdown",
   "metadata": {
    "graffitiCellId": "id_sa059h6"
   },
   "source": [
    "<span class=\"graffiti-highlight graffiti-id_sa059h6-id_vy6fnex\"><i></i><button>Retrieving Output Files</button></span>"
   ]
  },
  {
   "cell_type": "code",
   "execution_count": 6,
   "metadata": {
    "graffitiCellId": "id_s6ky3hf"
   },
   "outputs": [
    {
     "name": "stdout",
     "output_type": "stream",
     "text": [
      "getResults() is blocking until results of the job (id:gAL6fLjOq5rcsWroQd3PYktRLVJpWq23) are ready.\n",
      "Please wait...Success!\n",
      "output.tgz was downloaded in the same folder as this notebook.\n"
     ]
    }
   ],
   "source": [
    "import get_results\n",
    "\n",
    "get_results.getResults(job_id_core[0], filename=\"output.tgz\", blocking=True)"
   ]
  },
  {
   "cell_type": "markdown",
   "metadata": {
    "graffitiCellId": "id_al0fsnn"
   },
   "source": [
    "## Step 6: Viewing the Outputs\n",
    "In this step, we unpack the compressed file using `!tar zxf` and read the contents of the log files by using the `!cat` command.\n",
    "\n",
    "`stdout.log` should contain the printout of the print statement in our Python script."
   ]
  },
  {
   "cell_type": "code",
   "execution_count": 7,
   "metadata": {
    "graffitiCellId": "id_wfu4c7s"
   },
   "outputs": [],
   "source": [
    "!tar zxf output.tgz"
   ]
  },
  {
   "cell_type": "code",
   "execution_count": 8,
   "metadata": {
    "graffitiCellId": "id_qbef9da"
   },
   "outputs": [
    {
     "name": "stdout",
     "output_type": "stream",
     "text": [
      "Time taken to load model on Xeon CPU = 0.9403250217437744 seconds\r\n"
     ]
    }
   ],
   "source": [
    "!cat stdout.log"
   ]
  },
  {
   "cell_type": "code",
   "execution_count": 9,
   "metadata": {
    "graffitiCellId": "id_q608dfv"
   },
   "outputs": [
    {
     "name": "stdout",
     "output_type": "stream",
     "text": [
      "load_model_to_cpu.py:13: DeprecationWarning: Reading network using constructor is deprecated. Please, use IECore.read_network() method instead\r\n",
      "  model=IENetwork(model_structure, model_weights)\r\n",
      "tar: stdout.log: file changed as we read it\r\n"
     ]
    }
   ],
   "source": [
    "!cat stderr.log"
   ]
  },
  {
   "cell_type": "code",
   "execution_count": null,
   "metadata": {
    "graffitiCellId": "id_49vaedp"
   },
   "outputs": [],
   "source": []
  }
 ],
 "metadata": {
  "graffiti": {
   "firstAuthorId": "dca260a8-2142-11ea-b0f7-6f7abbbf2f85",
   "id": "id_n8fqtat",
   "language": "EN"
  },
  "kernelspec": {
   "display_name": "Python 3",
   "language": "python",
   "name": "python3"
  },
  "language_info": {
   "codemirror_mode": {
    "name": "ipython",
    "version": 3
   },
   "file_extension": ".py",
   "mimetype": "text/x-python",
   "name": "python",
   "nbconvert_exporter": "python",
   "pygments_lexer": "ipython3",
   "version": "3.6.3"
  }
 },
 "nbformat": 4,
 "nbformat_minor": 2
}
