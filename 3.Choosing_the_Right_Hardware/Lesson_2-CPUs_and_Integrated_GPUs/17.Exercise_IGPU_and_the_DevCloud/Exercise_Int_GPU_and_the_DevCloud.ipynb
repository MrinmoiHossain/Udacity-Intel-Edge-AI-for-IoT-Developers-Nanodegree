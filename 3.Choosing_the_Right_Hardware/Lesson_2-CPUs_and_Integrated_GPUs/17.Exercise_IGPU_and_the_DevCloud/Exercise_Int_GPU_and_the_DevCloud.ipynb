{
 "cells": [
  {
   "cell_type": "markdown",
   "metadata": {
    "graffitiCellId": "id_644khrg"
   },
   "source": [
    "# Exercise: Integrated GPU (IGPU) and the DevCloud\n",
    "\n",
    "Now that we've walked through the process of requesting a CPU on Intel's DevCloud and loading a model on the IGPU, you will have the opportunity to do this yourself with the addition of running inference on an image using both a CPU and IGPU.\n",
    "\n",
    "On the previous page, we concluded that running the inference on the IGPU could potentially improve the performance enough that the client would not need to purchase any new hardware. However, we don't know for sure if this is the case—we need to test it. So in this exercise, we'll also investigate how batching affects the inference.\n",
    "\n",
    "In this exercise, you will do the following:\n",
    "1. Write a Python script to load a model and run inference 1000 times with and without batches.\n",
    "    * Calculate the time it takes to load the model.\n",
    "    * Calculate the time it takes to run inference 1000 times with a batch of 1.\n",
    "    * Calculate the time it takes to run inference 100 times with a batch of 10.\n",
    "2. Write a shell script to submit a job to Intel's DevCloud.\n",
    "3. Submit two jobs using `qsub` on an edge node.\n",
    "    * One job using `CPU` as the device with an **UP Squared Grove IoT Dev kit**.\n",
    "    * One job using `GPU` as the device with an **UP Squared Grove IoT Dev kit**.\n",
    "4. Run `liveQStat` to view the status of your submitted jobs.\n",
    "5. Retrieve the results from your job.\n",
    "6. View the results.\n",
    "7. Plot and compare the results using bar graphs with `matplotlib` for the following metrics:\n",
    "    * Model Loading Time\n",
    "    * Inference Time\n",
    "    * Frames Per Secone (FPS)\n",
    "\n",
    "Click the **Exercise Overview** button below for a demonstration."
   ]
  },
  {
   "cell_type": "markdown",
   "metadata": {
    "graffitiCellId": "id_q3u0ysu"
   },
   "source": [
    "<span class=\"graffiti-highlight graffiti-id_q3u0ysu-id_m91okd5\"><i></i><button>Exercise Overview</button></span>"
   ]
  },
  {
   "cell_type": "markdown",
   "metadata": {
    "graffitiCellId": "id_2yz6gsf"
   },
   "source": [
    "#### IMPORTANT: Set up paths so we can run Dev Cloud utilities\n",
    "You *must* run this every time you enter a Workspace session."
   ]
  },
  {
   "cell_type": "code",
   "execution_count": null,
   "metadata": {
    "graffitiCellId": "id_ip8gnfp"
   },
   "outputs": [],
   "source": [
    "%env PATH=/opt/conda/bin:/opt/spark-2.4.3-bin-hadoop2.7/bin:/opt/conda/bin:/usr/local/sbin:/usr/local/bin:/usr/sbin:/usr/bin:/sbin:/bin:/opt/intel_devcloud_support\n",
    "import os\n",
    "import sys\n",
    "sys.path.insert(0, os.path.abspath('/opt/intel_devcloud_support'))\n",
    "sys.path.insert(0, os.path.abspath('/opt/intel'))"
   ]
  },
  {
   "cell_type": "markdown",
   "metadata": {
    "graffitiCellId": "id_w9qh6gt"
   },
   "source": [
    "## The Model\n",
    "\n",
    "We will be using the `vehicle-license-plate-detection-barrier-0106` model for this exercise.\n",
    "\n",
    "Remember to use the appropriate model precisions for each device:\n",
    "\n",
    "* CPU - `FP32`\n",
    "* IGPU - `FP16`\n",
    "\n",
    "The model has already been downloaded for you in the `/data/models/intel` directory on Intel's DevCloud.\n",
    "\n",
    "We will be running inference on an image of a car. The path to the image is `/data/resources/car.png`."
   ]
  },
  {
   "cell_type": "markdown",
   "metadata": {
    "graffitiCellId": "id_6mshbn6"
   },
   "source": [
    "# Step 1: Creating a Python Script\n",
    "\n",
    "The first step is to create a Python script that you can use to load the model and perform inference. We'll use the `%%writefile` magic to create a Python file called `inference_on_device.py`. In the next cell, you will need to complete the `TODO` items for this Python script.\n",
    "\n",
    "`TODO` items:\n",
    "\n",
    "1. Load the model\n",
    "\n",
    "2. Get the name of the input node\n",
    "\n",
    "3. Prepare the model for inference (create an input dictionary)\n",
    "\n",
    "4. Run inference 100 times in a loop when the batch size is 10, and 1000 times when the batch size is 1\n",
    "\n",
    "If you get stuck, you can click on the **Show Solution** button below for a walkthrough with the solution code."
   ]
  },
  {
   "cell_type": "code",
   "execution_count": 2,
   "metadata": {
    "graffitiCellId": "id_gofphp4"
   },
   "outputs": [
    {
     "name": "stdout",
     "output_type": "stream",
     "text": [
      "Overwriting inference_on_device.py\n"
     ]
    }
   ],
   "source": [
    "%%writefile inference_on_device.py\n",
    "\n",
    "import time\n",
    "import numpy as np\n",
    "import cv2\n",
    "from openvino.inference_engine import IENetwork\n",
    "from openvino.inference_engine import IECore\n",
    "import argparse\n",
    "\n",
    "def main(args):\n",
    "    model=args.model_path\n",
    "    model_weights=model+'.bin'\n",
    "    model_structure=model+'.xml'\n",
    "    batches=int(args.batches)\n",
    "    \n",
    "    start=time.time()\n",
    "    \n",
    "    # TODO: Load the model\n",
    "    model = IENetwork(model_structure, model_weights)\n",
    "    model.batch_size = batches\n",
    "    \n",
    "    core = IECore()\n",
    "    net = core.load_network(network = model, device_name = args.device, num_requests = 1)\n",
    "       \n",
    "    load_time=time.time()-start\n",
    "    print(f\"Time taken to load model = {load_time} seconds\")\n",
    "    \n",
    "    # TODO: Get the name of the input node\n",
    "    input_name = next(iter(model.inputs))\n",
    "    \n",
    "    # Reading and Preprocessing Image\n",
    "    input_img=cv2.imread('/data/resources/car.png')\n",
    "    input_img=cv2.resize(input_img, (300,300), interpolation = cv2.INTER_AREA)\n",
    "    input_img=np.moveaxis(input_img, -1, 0)\n",
    "    \n",
    "    # Running Inference in a loop on the same image\n",
    "    input_dict={input_name:[input_img]*batches}\n",
    "    \n",
    "    if batches==1:\n",
    "        iterations=1000\n",
    "    else:\n",
    "        iterations=100\n",
    "    \n",
    "    start=time.time()\n",
    "    for _ in range(iterations):\n",
    "        # TODO: Run Inference in a Loop\n",
    "        net.infer(input_dict)\n",
    "    \n",
    "    # Calculate inference time and fps\n",
    "    inference_time=time.time()-start\n",
    "    fps=100/inference_time\n",
    "    \n",
    "    print(f\"Time Taken to run 100 Inference is = {inference_time} seconds\")\n",
    "    \n",
    "    # Write load time, inference time, and fps to txt file\n",
    "    with open(f\"/output/{args.path}.txt\", \"w\") as f:\n",
    "        f.write(str(load_time)+'\\n')\n",
    "        f.write(str(inference_time)+'\\n')\n",
    "        f.write(str(fps)+'\\n')\n",
    "\n",
    "if __name__=='__main__':\n",
    "    parser=argparse.ArgumentParser()\n",
    "    parser.add_argument('--model_path', required=True)\n",
    "    parser.add_argument('--device', default=None)\n",
    "    parser.add_argument('--path', default=None)\n",
    "    parser.add_argument('--batches', default=None)\n",
    "    \n",
    "    args=parser.parse_args() \n",
    "    main(args)"
   ]
  },
  {
   "cell_type": "markdown",
   "metadata": {
    "graffitiCellId": "id_wz891hr"
   },
   "source": [
    "<span class=\"graffiti-highlight graffiti-id_wz891hr-id_r4s1m8u\"><i></i><button>Show Solution</button></span>"
   ]
  },
  {
   "cell_type": "markdown",
   "metadata": {
    "graffitiCellId": "id_nmhf4sn"
   },
   "source": [
    "## Step 2: Creating a Job Submission Script\n",
    "\n",
    "To submit a job to the DevCloud, you'll need to create a shell script. Similar to the Python script above, we'll use the `%%writefile` magic command to create a shell script called `inference_model_job.sh`. In the next cell, you will need to complete the `TODO` items for this shell script.\n",
    "\n",
    "`TODO` items:\n",
    "1. Create three variables:\n",
    "    * `DEVICE` - Assign the value as the first argument passed into the shell script.\n",
    "    * `BATCHES` - Assign the value as the second argument passed into the shell script\n",
    "    * `MODELPATH` - Assign the value as the third argument passed into the shell script.\n",
    "    * `SAVEPATH` - Assign the value as the fourth argument passed into the shell script.\n",
    "\n",
    "2. Call the Python script using the three variable values as the command line argument\n",
    "\n",
    "If you get stuck, you can click on the **Show Solution** button below for a walkthrough with the solution code."
   ]
  },
  {
   "cell_type": "code",
   "execution_count": 3,
   "metadata": {
    "graffitiCellId": "id_ddsqxxd"
   },
   "outputs": [
    {
     "name": "stdout",
     "output_type": "stream",
     "text": [
      "Overwriting inference_model_job.sh\n"
     ]
    }
   ],
   "source": [
    "%%writefile inference_model_job.sh\n",
    "#!/bin/bash\n",
    "\n",
    "exec 1>/output/stdout.log 2>/output/stderr.log\n",
    "\n",
    "mkdir -p /output\n",
    "\n",
    "# TODO: Create DEVICE variable\n",
    "DEVICE=$1\n",
    "# TODO: Create BATCHES variable\n",
    "BATCHES=$2\n",
    "# TODO: Create MODELPATH variable\n",
    "MODELPATH=$3\n",
    "# TODO: Create SAVEPATH variable\n",
    "SAVEPATH=$4\n",
    "\n",
    "# TODO: Call the Python script\n",
    "python3 inference_on_device.py --model_path ${MODELPATH} --device ${DEVICE} --path ${SAVEPATH} --batches ${BATCHES}\n",
    "\n",
    "cd /output\n",
    "\n",
    "tar zcvf output.tgz * # compresses all files in the current directory (output)"
   ]
  },
  {
   "cell_type": "markdown",
   "metadata": {
    "graffitiCellId": "id_9puq2z1"
   },
   "source": [
    "<span class=\"graffiti-highlight graffiti-id_9puq2z1-id_s80y9b8\"><i></i><button>Show Solution</button></span>"
   ]
  },
  {
   "cell_type": "markdown",
   "metadata": {
    "graffitiCellId": "id_lzzqbxo"
   },
   "source": [
    "## Step 3: Submitting a Job to Intel's DevCloud\n",
    "\n",
    "In the next two sub-steps, you will write your `!qsub` commands to submit your jobs to Intel's DevCloud to load your model and run inference on the UP Squared Grove IoT Dev kit with an **Intel Atom x7-E3950** CPU and **Intel HD Graphics 505** IGPU.\n",
    "\n",
    "Your `!qsub` command should take the following flags and arguments:\n",
    "1. The first argument should be the shell script filename\n",
    "2. `-d` flag - This argument should be `.`\n",
    "3. `-l` flag - This argument should request an edge node with an **UP Squared Grove IoT Dev kit**. The node name for this is `up-squared`. The kit contains the following devices:\n",
    "    * **Intel Atom x7-E3950** for your `CPU`\n",
    "    * **Intel HD Graphics 505** for your `IGPU`\n",
    "    \n",
    "**Note**: Since this is a development kit with a predetermined set of hardware, you don't need to specify the CPU and GPU on your node request like we did in previous exercises.\n",
    "4. `-F` flag - This argument should contain the three values to assign to the variables of the shell script:\n",
    "    * **DEVICE** - Device type for the job: `CPU` or `GPU`\n",
    "    * **BATCHES** - Batch size. `1 or 10`\n",
    "    * **MODELPATH** - Full path to the model for the job. As a reminder, the model is located in `/data/models/intel`\n",
    "    * **SAVEPATH** - Name of the file you want to save the performance metrics as. These should be named as the following:\n",
    "        - `cpu_stats` for the `CPU` job without batching\n",
    "        - `cpu_batch_stats`for the `CPU` job with batching\n",
    "        - `gpu_stats` for the `GPU` job without batching\n",
    "        - `gpu_batch_stats` for the `GPU` job with batching\n",
    "\n",
    "**Note**: There is an optional flag, `-N`, you may see in a few exercises. This is an argument that only works on Intel's DevCloud that allows you to name your job submission. This argument doesn't work in Udacity's workspace integration with Intel's DevCloud."
   ]
  },
  {
   "cell_type": "markdown",
   "metadata": {
    "graffitiCellId": "id_od5k60x"
   },
   "source": [
    "## Step 3a: Running on the CPU\n",
    "\n",
    "In the cell below, write the qsub command that will submit your job to the CPU with a batch size of 1.\n",
    "\n",
    "If you get stuck, you can click on the **Show Solution** button below for a walkthrough with the solution code."
   ]
  },
  {
   "cell_type": "code",
   "execution_count": 4,
   "metadata": {
    "graffitiCellId": "id_q99oaik"
   },
   "outputs": [
    {
     "name": "stdout",
     "output_type": "stream",
     "text": [
      "1rbcKKjZ7IrSzCE0fOYoL0klboMDbwuu\n"
     ]
    }
   ],
   "source": [
    "cpu_job_id_core = !qsub inference_model_job.sh -d . -l nodes=1:up-squared -F \"CPU 1 /data/models/intel/vehicle-license-plate-detection-barrier-0106/FP32/vehicle-license-plate-detection-barrier-0106 cpu_stats\" -N store_core # TODO: Write qsub command\n",
    "print(cpu_job_id_core[0])"
   ]
  },
  {
   "cell_type": "markdown",
   "metadata": {
    "graffitiCellId": "id_6xf0emz"
   },
   "source": [
    "<span class=\"graffiti-highlight graffiti-id_6xf0emz-id_fx776ub\"><i></i><button>Show Solution</button></span>"
   ]
  },
  {
   "cell_type": "markdown",
   "metadata": {
    "graffitiCellId": "id_od5k60x"
   },
   "source": [
    "## Step 3b: Running on the CPU with Batches\n",
    "\n",
    "In the cell below, write the qsub command that will submit your job to the CPU with a batch size of 10.\n",
    "\n",
    "If you get stuck, you can click on the **Show Solution** button below for a walkthrough with the solution code."
   ]
  },
  {
   "cell_type": "code",
   "execution_count": 5,
   "metadata": {
    "graffitiCellId": "id_q99oaik"
   },
   "outputs": [
    {
     "name": "stdout",
     "output_type": "stream",
     "text": [
      "ZunyqtbgdF7JnqNPvsRrY0NL0uZIaeMk\n"
     ]
    }
   ],
   "source": [
    "cpu_batch_job_id_core = !qsub inference_model_job.sh -d . -l nodes=1:up-squared -F \"CPU 10 /data/models/intel/vehicle-license-plate-detection-barrier-0106/FP32/vehicle-license-plate-detection-barrier-0106 cpu_batch_stats\" -N store_core # TODO: Write qsub command\n",
    "print(cpu_batch_job_id_core[0])"
   ]
  },
  {
   "cell_type": "markdown",
   "metadata": {
    "graffitiCellId": "id_8qggyrj"
   },
   "source": [
    "<span class=\"graffiti-highlight graffiti-id_8qggyrj-id_sga525q\"><i></i><button>Show Solution</button></span>"
   ]
  },
  {
   "cell_type": "markdown",
   "metadata": {
    "graffitiCellId": "id_8rnvc89"
   },
   "source": [
    "## Step 3c: Running on the GPU\n",
    "\n",
    "In the cell below, write the qsub command that will submit your job to the GPU with a batch size of 1.\n",
    "\n",
    "If you get stuck, you can click on the **Show Solution** button below for a walkthrough with the solution code."
   ]
  },
  {
   "cell_type": "code",
   "execution_count": 6,
   "metadata": {
    "graffitiCellId": "id_socwao2"
   },
   "outputs": [
    {
     "name": "stdout",
     "output_type": "stream",
     "text": [
      "G2pnMNZgLQXbL3j9qWQGzTf8xcbfuSrm\n"
     ]
    }
   ],
   "source": [
    "gpu_job_id_core = !qsub inference_model_job.sh -d . -l nodes=1:up-squared -F \"GPU 1 /data/models/intel/vehicle-license-plate-detection-barrier-0106/FP16/vehicle-license-plate-detection-barrier-0106 gpu_stats\" -N store_core # TODO: Write qsub command\n",
    "print(gpu_job_id_core[0])"
   ]
  },
  {
   "cell_type": "markdown",
   "metadata": {
    "graffitiCellId": "id_ch93k1d"
   },
   "source": [
    "<span class=\"graffiti-highlight graffiti-id_ch93k1d-id_75n0xif\"><i></i><button>Show Solution</button></span>"
   ]
  },
  {
   "cell_type": "markdown",
   "metadata": {
    "graffitiCellId": "id_90c8gyx"
   },
   "source": [
    "## Step 3d: Running on the GPU with batches\n",
    "\n",
    "In the cell below, write the qsub command that will submit your job to the GPU with a batch size of 10.\n",
    "\n",
    "If you get stuck, you can click on the **Show Solution** button below for a walkthrough with the solution code."
   ]
  },
  {
   "cell_type": "code",
   "execution_count": 7,
   "metadata": {
    "graffitiCellId": "id_tggq7fo"
   },
   "outputs": [
    {
     "name": "stdout",
     "output_type": "stream",
     "text": [
      "RiQuUS842OlUevzfwGxaBK1SkTgZFm8F\n"
     ]
    }
   ],
   "source": [
    "gpu_batch_job_id_core = !qsub inference_model_job.sh -d . -l nodes=1:up-squared -F \"GPU 10 /data/models/intel/vehicle-license-plate-detection-barrier-0106/FP16/vehicle-license-plate-detection-barrier-0106 gpu_batch_stats\" -N store_core # TODO: Write qsub command\n",
    "print(gpu_batch_job_id_core[0])"
   ]
  },
  {
   "cell_type": "markdown",
   "metadata": {
    "graffitiCellId": "id_slynorm"
   },
   "source": [
    "<span class=\"graffiti-highlight graffiti-id_slynorm-id_0tfk8ba\"><i></i><button>Show Solution</button></span>"
   ]
  },
  {
   "cell_type": "markdown",
   "metadata": {
    "graffitiCellId": "id_14s1b8y"
   },
   "source": [
    "## Step 4: Running liveQStat\n",
    "\n",
    "Running the `liveQStat` function, we can see the live status of our job. Running the this function will lock the cell and poll the job status 10 times. The cell is locked until this finishes polling 10 times or you can interrupt the kernel to stop it by pressing the stop button at the top: ![stop button](assets/interrupt_kernel.png)\n",
    "\n",
    "* `Q` status means our job is currently awaiting an available node\n",
    "* `R` status means our job is currently running on the requested node\n",
    "\n",
    "**Note**: In the demonstration, it is pointed out that `W` status means your job is done. This is no longer accurate. Once a job has finished running, it will no longer show in the list when running the `liveQStat` function.\n",
    "\n",
    "Click the **Running liveQStat** button below for a demonstration."
   ]
  },
  {
   "cell_type": "markdown",
   "metadata": {
    "graffitiCellId": "id_qaq1b9g"
   },
   "source": [
    "<span class=\"graffiti-highlight graffiti-id_qaq1b9g-id_e924r6s\"><i></i><button>Running LiveQstat</button></span>"
   ]
  },
  {
   "cell_type": "code",
   "execution_count": 8,
   "metadata": {
    "graffitiCellId": "id_3jnutnq"
   },
   "outputs": [],
   "source": [
    "import liveQStat\n",
    "liveQStat.liveQStat()"
   ]
  },
  {
   "cell_type": "markdown",
   "metadata": {
    "graffitiCellId": "id_gr0xc1w"
   },
   "source": [
    "## Step 5: Retrieving Output Files\n",
    "\n",
    "In this step, we'll be using the `getResults` function to retrieve our job's results. This function takes a few arguments.\n",
    "\n",
    "1. `job id` - This values are stored in the variables for each job you submitted using the qsub command in **Step 3a**, **Step 3b**, **Step 3c**, and **Step 3d**: \n",
    "    * `cpu_job_id_core`\n",
    "    * `cpu_batch_job_id_core`\n",
    "    * `gpu_job_id_core`\n",
    "    * `gpu_batch_job_id_core`\n",
    "\n",
    "Remember that this value is an array with a single string, so we access the string value using `job_id_core[0]`.\n",
    "\n",
    "2. `filename` - This value should match the filename of the compressed file we have in our `inference_model_job.sh` shell script.\n",
    "3. `blocking` - This is an optional argument and is set to `False` by default. If this is set to `True`, the cell is locked while waiting for the results to come back. There is a status indicator showing the cell is waiting on results.\n",
    "\n",
    "**Note**: The `getResults` function is unique to Udacity's workspace integration with Intel's DevCloud. When working on Intel's DevCloud environment, your job's results are automatically retrieved and placed in your working directory.\n",
    "\n",
    "Click the **Retrieving Output Files** button below for a demonstration."
   ]
  },
  {
   "cell_type": "markdown",
   "metadata": {
    "graffitiCellId": "id_6zhr5sh"
   },
   "source": [
    "<span class=\"graffiti-highlight graffiti-id_6zhr5sh-id_yspqiev\"><i></i><button>Retrieving Output Files</button></span>"
   ]
  },
  {
   "cell_type": "markdown",
   "metadata": {
    "graffitiCellId": "id_fdodtjl"
   },
   "source": [
    "### Step 5a: Get GPU Results\n",
    "\n",
    "**Without batches**"
   ]
  },
  {
   "cell_type": "code",
   "execution_count": 9,
   "metadata": {
    "graffitiCellId": "id_8f5z1lx"
   },
   "outputs": [
    {
     "name": "stdout",
     "output_type": "stream",
     "text": [
      "getResults() is blocking until results of the job (id:G2pnMNZgLQXbL3j9qWQGzTf8xcbfuSrm) are ready.\n",
      "Please wait.....................................................................................................................................Success!\n",
      "output.tgz was downloaded in the same folder as this notebook.\n"
     ]
    }
   ],
   "source": [
    "import get_results\n",
    "\n",
    "get_results.getResults(gpu_job_id_core[0], filename=\"output.tgz\", blocking=True)"
   ]
  },
  {
   "cell_type": "code",
   "execution_count": 10,
   "metadata": {
    "graffitiCellId": "id_e9y5r02"
   },
   "outputs": [],
   "source": [
    "!tar zxf output.tgz"
   ]
  },
  {
   "cell_type": "code",
   "execution_count": 11,
   "metadata": {
    "graffitiCellId": "id_02i1ye9"
   },
   "outputs": [
    {
     "name": "stdout",
     "output_type": "stream",
     "text": [
      "Time taken to load model = 230.36906242370605 seconds\r\n",
      "Time Taken to run 100 Inference is = 15.50459885597229 seconds\r\n",
      "gpu_stats.txt\r\n",
      "stderr.log\r\n"
     ]
    }
   ],
   "source": [
    "!cat stdout.log"
   ]
  },
  {
   "cell_type": "code",
   "execution_count": 12,
   "metadata": {
    "graffitiCellId": "id_3tep2n1"
   },
   "outputs": [
    {
     "name": "stdout",
     "output_type": "stream",
     "text": [
      "inference_on_device.py:18: DeprecationWarning: Reading network using constructor is deprecated. Please, use IECore.read_network() method instead\r\n",
      "  model = IENetwork(model_structure, model_weights)\r\n"
     ]
    }
   ],
   "source": [
    "!cat stderr.log"
   ]
  },
  {
   "cell_type": "markdown",
   "metadata": {
    "graffitiCellId": "id_p9zsak8"
   },
   "source": [
    "**With Batches**"
   ]
  },
  {
   "cell_type": "code",
   "execution_count": 13,
   "metadata": {
    "graffitiCellId": "id_uqw1ags"
   },
   "outputs": [
    {
     "name": "stdout",
     "output_type": "stream",
     "text": [
      "getResults() is blocking until results of the job (id:RiQuUS842OlUevzfwGxaBK1SkTgZFm8F) are ready.\n",
      "Please wait...Success!\n",
      "output.tgz was downloaded in the same folder as this notebook.\n"
     ]
    }
   ],
   "source": [
    "import get_results\n",
    "\n",
    "get_results.getResults(gpu_batch_job_id_core[0], filename=\"output.tgz\", blocking=True)"
   ]
  },
  {
   "cell_type": "code",
   "execution_count": 14,
   "metadata": {
    "graffitiCellId": "id_jsyudfe"
   },
   "outputs": [],
   "source": [
    "!tar zxf output.tgz"
   ]
  },
  {
   "cell_type": "code",
   "execution_count": 15,
   "metadata": {
    "graffitiCellId": "id_n7csnwv"
   },
   "outputs": [
    {
     "name": "stdout",
     "output_type": "stream",
     "text": [
      "Time taken to load model = 230.25298690795898 seconds\r\n",
      "Time Taken to run 100 Inference is = 8.563944101333618 seconds\r\n",
      "gpu_batch_stats.txt\r\n",
      "stderr.log\r\n"
     ]
    }
   ],
   "source": [
    "!cat stdout.log"
   ]
  },
  {
   "cell_type": "code",
   "execution_count": 16,
   "metadata": {
    "graffitiCellId": "id_j3hg644"
   },
   "outputs": [
    {
     "name": "stdout",
     "output_type": "stream",
     "text": [
      "inference_on_device.py:18: DeprecationWarning: Reading network using constructor is deprecated. Please, use IECore.read_network() method instead\r\n",
      "  model = IENetwork(model_structure, model_weights)\r\n"
     ]
    }
   ],
   "source": [
    "!cat stderr.log"
   ]
  },
  {
   "cell_type": "markdown",
   "metadata": {
    "graffitiCellId": "id_0on2lkj"
   },
   "source": [
    "### Step 5b: Get CPU Results\n",
    "\n",
    "**Without Batches**"
   ]
  },
  {
   "cell_type": "code",
   "execution_count": 17,
   "metadata": {
    "graffitiCellId": "id_kzey66c"
   },
   "outputs": [
    {
     "name": "stdout",
     "output_type": "stream",
     "text": [
      "getResults() is blocking until results of the job (id:1rbcKKjZ7IrSzCE0fOYoL0klboMDbwuu) are ready.\n",
      "Please wait...Success!\n",
      "output.tgz was downloaded in the same folder as this notebook.\n"
     ]
    }
   ],
   "source": [
    "import get_results\n",
    "\n",
    "get_results.getResults(cpu_job_id_core[0], filename=\"output.tgz\", blocking=True)"
   ]
  },
  {
   "cell_type": "code",
   "execution_count": 18,
   "metadata": {
    "graffitiCellId": "id_d6iot0e"
   },
   "outputs": [],
   "source": [
    "!tar zxf output.tgz"
   ]
  },
  {
   "cell_type": "code",
   "execution_count": 19,
   "metadata": {
    "graffitiCellId": "id_dyzbf5c"
   },
   "outputs": [
    {
     "name": "stdout",
     "output_type": "stream",
     "text": [
      "Time taken to load model = 1.2412683963775635 seconds\r\n",
      "Time Taken to run 100 Inference is = 16.141026496887207 seconds\r\n",
      "cpu_stats.txt\r\n",
      "stderr.log\r\n"
     ]
    }
   ],
   "source": [
    "!cat stdout.log"
   ]
  },
  {
   "cell_type": "code",
   "execution_count": 20,
   "metadata": {
    "graffitiCellId": "id_7ecvkvi"
   },
   "outputs": [
    {
     "name": "stdout",
     "output_type": "stream",
     "text": [
      "inference_on_device.py:18: DeprecationWarning: Reading network using constructor is deprecated. Please, use IECore.read_network() method instead\r\n",
      "  model = IENetwork(model_structure, model_weights)\r\n"
     ]
    }
   ],
   "source": [
    "!cat stderr.log"
   ]
  },
  {
   "cell_type": "markdown",
   "metadata": {
    "graffitiCellId": "id_spfq91k"
   },
   "source": [
    "**With Batches**"
   ]
  },
  {
   "cell_type": "code",
   "execution_count": 21,
   "metadata": {
    "graffitiCellId": "id_rlibvbf"
   },
   "outputs": [
    {
     "name": "stdout",
     "output_type": "stream",
     "text": [
      "getResults() is blocking until results of the job (id:ZunyqtbgdF7JnqNPvsRrY0NL0uZIaeMk) are ready.\n",
      "Please wait...Success!\n",
      "output.tgz was downloaded in the same folder as this notebook.\n"
     ]
    }
   ],
   "source": [
    "import get_results\n",
    "\n",
    "get_results.getResults(cpu_batch_job_id_core[0], filename=\"output.tgz\", blocking=True)"
   ]
  },
  {
   "cell_type": "code",
   "execution_count": 22,
   "metadata": {
    "graffitiCellId": "id_i3z45nb"
   },
   "outputs": [],
   "source": [
    "!tar zxf output.tgz"
   ]
  },
  {
   "cell_type": "code",
   "execution_count": 23,
   "metadata": {
    "graffitiCellId": "id_gsclkcn"
   },
   "outputs": [
    {
     "name": "stdout",
     "output_type": "stream",
     "text": [
      "Time taken to load model = 1.2669670581817627 seconds\r\n",
      "Time Taken to run 100 Inference is = 13.785066843032837 seconds\r\n",
      "cpu_batch_stats.txt\r\n",
      "stderr.log\r\n"
     ]
    }
   ],
   "source": [
    "!cat stdout.log"
   ]
  },
  {
   "cell_type": "code",
   "execution_count": 24,
   "metadata": {
    "graffitiCellId": "id_5c9uyyn"
   },
   "outputs": [
    {
     "name": "stdout",
     "output_type": "stream",
     "text": [
      "inference_on_device.py:18: DeprecationWarning: Reading network using constructor is deprecated. Please, use IECore.read_network() method instead\r\n",
      "  model = IENetwork(model_structure, model_weights)\r\n"
     ]
    }
   ],
   "source": [
    "!cat stderr.log"
   ]
  },
  {
   "cell_type": "markdown",
   "metadata": {
    "graffitiCellId": "id_8on3plf"
   },
   "source": [
    "## Step 6: View the Outputs\n",
    "\n",
    "Can you plot the load time, inference time and the frames per second in the cell below?"
   ]
  },
  {
   "cell_type": "markdown",
   "metadata": {
    "graffitiCellId": "id_f66xl3r"
   },
   "source": [
    "<span class=\"graffiti-highlight graffiti-id_f66xl3r-id_x1irox2\"><i></i><button>View the Output</button></span>"
   ]
  },
  {
   "cell_type": "code",
   "execution_count": 25,
   "metadata": {
    "graffitiCellId": "id_777vo84"
   },
   "outputs": [],
   "source": [
    "import matplotlib.pyplot as plt"
   ]
  },
  {
   "cell_type": "code",
   "execution_count": 26,
   "metadata": {
    "graffitiCellId": "id_vwyfrq7"
   },
   "outputs": [
    {
     "data": {
      "image/png": "[encoded data removed]",
      "text/plain": [
       "<matplotlib.figure.Figure at 0x7f31d4e34518>"
      ]
     },
     "metadata": {
      "needs_background": "light"
     },
     "output_type": "display_data"
    },
    {
     "data": {
      "image/png": "[encoded data removed]",
      "text/plain": [
       "<matplotlib.figure.Figure at 0x7f31d2de7ef0>"
      ]
     },
     "metadata": {
      "needs_background": "light"
     },
     "output_type": "display_data"
    },
    {
     "data": {
      "image/png": "[encoded data removed]",
      "text/plain": [
       "<matplotlib.figure.Figure at 0x7f31d2dbe908>"
      ]
     },
     "metadata": {
      "needs_background": "light"
     },
     "output_type": "display_data"
    }
   ],
   "source": [
    "def plot(labels, data, title, label):\n",
    "    fig = plt.figure()\n",
    "    ax = fig.add_axes([0,0,1,1])\n",
    "    ax.set_ylabel(label)\n",
    "    ax.set_title(title)\n",
    "    ax.bar(labels, data)\n",
    "    \n",
    "def read_files(paths, labels):\n",
    "    load_time=[]\n",
    "    inference_time=[]\n",
    "    fps=[]\n",
    "    \n",
    "    for path in paths:\n",
    "        if os.path.isfile(path):\n",
    "            f=open(path, 'r')\n",
    "            load_time.append(float(f.readline()))\n",
    "            inference_time.append(float(f.readline()))\n",
    "            fps.append(float(f.readline()))\n",
    "\n",
    "    plot(labels, load_time, 'Model Load Time', 'seconds')\n",
    "    plot(labels, inference_time, 'Inference Time', 'seconds')\n",
    "    plot(labels, fps, 'Frames per Second', 'Frames')\n",
    "\n",
    "paths=['gpu_stats.txt', 'cpu_stats.txt', 'gpu_batch_stats.txt', 'cpu_batch_stats.txt']\n",
    "read_files(paths, ['GPU', 'CPU', 'GPU Batching', 'CPU Batching'])"
   ]
  },
  {
   "cell_type": "markdown",
   "metadata": {
    "graffitiCellId": "id_q77x2pr"
   },
   "source": [
    "## Conclusion\n",
    "\n",
    "We can see that batching the images leads to some improvement in **inference time** and **FPS** for both the CPU and GPU; however, we can see the improvement in performance for the GPU is much better."
   ]
  }
 ],
 "metadata": {
  "graffiti": {
   "firstAuthorId": "10505542082",
   "id": "id_m8oepb4",
   "language": "EN"
  },
  "kernelspec": {
   "display_name": "Python 3",
   "language": "python",
   "name": "python3"
  },
  "language_info": {
   "codemirror_mode": {
    "name": "ipython",
    "version": 3
   },
   "file_extension": ".py",
   "mimetype": "text/x-python",
   "name": "python",
   "nbconvert_exporter": "python",
   "pygments_lexer": "ipython3",
   "version": "3.6.3"
  }
 },
 "nbformat": 4,
 "nbformat_minor": 2
}
