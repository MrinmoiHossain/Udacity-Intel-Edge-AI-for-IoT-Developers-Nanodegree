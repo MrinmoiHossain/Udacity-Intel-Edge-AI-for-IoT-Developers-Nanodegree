{
 "cells": [
  {
   "cell_type": "markdown",
   "metadata": {
    "editable": true,
    "ulab": {
     "buttons": {
      "ulab-button-1f07fc1c": {
       "bashCommand": "source /opt/intel/openvino/bin/setupvars.sh -pyver 3.5",
       "filesToOpen": [],
       "isPreviewButton": false,
       "runInBackground": false,
       "style": "primary",
       "text": "RIGHT CLICK ME",
       "toggleOffText": "HIDE SOLUTION",
       "toggleOnText": "SHOW SOLUTION"
      },
      "ulab-button-93db1c48": {
       "bashCommand": "source /opt/intel/openvino/bin/setupvars.sh -pyver 3.5",
       "filesToOpen": [],
       "isPreviewButton": false,
       "runInBackground": false,
       "style": "primary",
       "text": "Source OpenVINO Environment",
       "toggleOffText": "HIDE SOLUTION",
       "toggleOnText": "SHOW SOLUTION"
      }
     }
    }
   },
   "source": [
    "# Exercise: Measuring Layerwise Performance\n",
    "\n",
    "In the previous section you saw the layerwise performance of the `base_cnn` model. In this section, we will use a model with more efficient layers and see the difference in performance.\n",
    "\n",
    "## Task 1\n",
    "\n",
    "For this exercise, you will need to finish the `perf_counts.py` file on the right. This file should load the `sep_cnn` model and find the layerwise performance of the model.\n",
    "\n",
    "\n",
    "Before running the file, make sure that you source the OpenVINO environment by clicking the button below:\n",
    "\n",
    "\n",
    "<button id=\"ulab-button-93db1c48\" class=\"ulab-btn--primary\"></button>"
   ]
  },
  {
   "cell_type": "markdown",
   "metadata": {
    "editable": true
   },
   "source": [
    "Click the button below to see a full walkthrough video of the solution for Task 1.\n",
    "\n",
    "**Note**: In the video, the solution uses the `IEPlugin` API to load the model. This is an alternate API to the `IECore` API that you may have seen in a previous course. You can use either API in your solution code, but note that the `IEPlugin` API will be deprecated in a future OpenVINO version.\n",
    "\n",
    "You can replace the `IEPlugin` code with the following:\n",
    "```\n",
    "core = IECore()\n",
    "net = core.load_network(network=model, device_name=args.device, num_requests=1)\n",
    "```"
   ]
  },
  {
   "cell_type": "markdown",
   "metadata": {
    "editable": true,
    "toggleable": true,
    "ulab": {
     "buttons": {
      "ulab-button-toggle-07e1f00b": {
       "bashCommand": "",
       "filesToOpen": [],
       "isPreviewButton": false,
       "runInBackground": false,
       "style": "primary",
       "text": "",
       "toggleOffText": "HIDE VIDEO WALKTHROUGH",
       "toggleOnText": "SHOW VIDEO WALKTHROUGH"
      }
     }
    },
    "video": {
     "duration": 130,
     "id": "105968",
     "subtitles": [],
     "topher_id": "2854ea2f-6d80-11ea-80a5-0242ac110003",
     "transcodings": {
      "uri_480p_1000kbps_mp4": "https://video.udacity-data.com/topher/2020/March/5e797f6a_nd131-c03-l01-a09-solution-measuring-layerwise-performance-v2/nd131-c03-l01-a09-solution-measuring-layerwise-performance-v2_480p_1000kbps.mp4",
      "uri_480p_mp4": "https://video.udacity-data.com/topher/2020/March/5e797f6a_nd131-c03-l01-a09-solution-measuring-layerwise-performance-v2/nd131-c03-l01-a09-solution-measuring-layerwise-performance-v2_480p.mp4",
      "uri_720p_mp4": "https://video.udacity-data.com/topher/2020/March/5e797f6a_nd131-c03-l01-a09-solution-measuring-layerwise-performance-v2/nd131-c03-l01-a09-solution-measuring-layerwise-performance-v2_720p.mp4",
      "uri_hls": "https://video.udacity-data.com/topher/2020/March/5e797f6a_nd131-c03-l01-a09-solution-measuring-layerwise-performance-v2/hls/playlist.m3u8"
     },
     "youtube_id": "4uLof7xBkxM"
    }
   },
   "source": []
  },
  {
   "cell_type": "markdown",
   "metadata": {
    "editable": true
   },
   "source": [
    "## Task 2\n",
    "\n",
    "To see the performance improvements when using pooling layers, try the following tasks:\n",
    "\n",
    "- Load the `pool_cnn` model using the same script\n",
    "- Compare the performance of the two models"
   ]
  },
  {
   "cell_type": "markdown",
   "metadata": {
    "editable": true
   },
   "source": [
    "## Quiz\n",
    "The `pool_cnn` model uses standard convolutions, whereas the `sep_cnn` model uses separable convolutions. The first convolutional layers in both these models have the same input and output shape. In which model does the layer execute faster?"
   ]
  },
  {
   "cell_type": "markdown",
   "metadata": {
    "editable": true,
    "toggleable": true,
    "ulab": {
     "buttons": {
      "ulab-button-toggle-79ddab68": {
       "bashCommand": "",
       "filesToOpen": [],
       "isPreviewButton": false,
       "runInBackground": false,
       "style": "primary",
       "text": "",
       "toggleOffText": "POOL_CNN",
       "toggleOnText": "POOL_CNN"
      }
     }
    }
   },
   "source": [
    "Remember that the `pool_cnn` model uses standard convolutional layers. Even though the input and output shape to the layer is same as for the separable convolutional layer, it requires more FLOPs to execute. Hence, it takes more time to execute."
   ]
  },
  {
   "cell_type": "markdown",
   "metadata": {
    "editable": true,
    "toggleable": true,
    "ulab": {
     "buttons": {
      "ulab-button-toggle-331a5484": {
       "bashCommand": "",
       "filesToOpen": [],
       "isPreviewButton": false,
       "runInBackground": false,
       "style": "primary",
       "text": "",
       "toggleOffText": "SEP_CNN",
       "toggleOnText": "SEP_CNN"
      }
     }
    }
   },
   "source": [
    "**Correct!**\n",
    "\n",
    "The `sep_cnn` model uses depthwise convolutions which require fewer FLOPs to execute. This is why it executes faster."
   ]
  }
 ],
 "metadata": {
  "kernelspec": {
   "display_name": "Python 3",
   "language": "python",
   "name": "python3"
  },
  "language_info": {
   "codemirror_mode": {
    "name": "ipython",
    "version": 3
   },
   "file_extension": ".py",
   "mimetype": "text/x-python",
   "name": "python",
   "nbconvert_exporter": "python",
   "pygments_lexer": "ipython3",
   "version": "3.6.3"
  },
  "ulab_nb_type": "guided"
 },
 "nbformat": 4,
 "nbformat_minor": 4
}
