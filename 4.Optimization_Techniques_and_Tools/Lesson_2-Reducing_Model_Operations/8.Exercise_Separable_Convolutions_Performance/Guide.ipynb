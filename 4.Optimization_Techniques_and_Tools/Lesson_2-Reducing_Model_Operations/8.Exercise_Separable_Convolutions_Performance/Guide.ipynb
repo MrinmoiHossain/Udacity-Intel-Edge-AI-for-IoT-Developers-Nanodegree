{
 "cells": [
  {
   "cell_type": "markdown",
   "metadata": {
    "editable": true
   },
   "source": [
    "# Exercise: Seperable Convolutions Performance\n",
    "\n",
    "For this exercise your first task will be to calculate the total number of FLOPs in a model that uses separable convolutional layers. The architecture of this `sep_conv` model is give below. Your second task will be to then create an inference engine pipeline that can run the model.\n",
    "\n",
    "<img src=\"https://video.udacity-data.com/topher/2020/April/5e9897cf_l3-slides-sep/l3-slides-sep.jpg\" alt=\"conv output\">"
   ]
  },
  {
   "cell_type": "markdown",
   "metadata": {
    "editable": true
   },
   "source": [
    "## Task 1: Calculate Model FLOPS\n",
    "\n",
    "#### Layer 1: Separable Conv2D\n",
    "Input shape: 1x1x28x28  \n",
    "Kernel shape: 3x3  \n",
    "Number of kernels: 10  "
   ]
  },
  {
   "cell_type": "markdown",
   "metadata": {
    "editable": true,
    "toggleable": true,
    "ulab": {
     "buttons": {
      "ulab-button-toggle-498cba3e": {
       "style": "primary"
      }
     }
    }
   },
   "source": [
    "Depthwise Layer:  \n",
    "The shape for a single dimension will be = (28-3)+1 = 26   \n",
    "So our output shape will be 26x26  \n",
    "Because we have 1 input channel, our actual output shape will be 1x26x26  \n",
    "\n",
    "FLOPs: 1x26x26x3x3x1x2 = 12,168  \n",
    "\n",
    "Pointwise Layer:  \n",
    "Input Shape = 1x26x26  \n",
    "No. of kernels = 10  \n",
    "Output Shape = 10x26x26  \n",
    "\n",
    "FLOPs: 10x1x1x1x26x26x2 = 13,520  \n",
    "\n",
    "Total FLOPs: 12168+13520 = 25,688  "
   ]
  },
  {
   "cell_type": "markdown",
   "metadata": {
    "editable": true
   },
   "source": [
    "#### Layer 2: Separable Conv2D\n",
    "Input shape: 10x26x26  \n",
    "Kernel shape: 3x3  \n",
    "Number of kernels: 5  "
   ]
  },
  {
   "cell_type": "markdown",
   "metadata": {
    "editable": true,
    "toggleable": true,
    "ulab": {
     "buttons": {
      "ulab-button-toggle-1c62f244": {
       "style": "primary"
      }
     }
    }
   },
   "source": [
    "Depthwise Layer:  \n",
    "The shape for a single dimension will be = (26-3)+1 = 24   \n",
    "So our output shape will be 24x24  \n",
    "Because we have 10 input channel, our actual output shape will be 10x24x24  \n",
    "\n",
    "FLOPs: 10x24x24x3x3x1x2 = 103,680  \n",
    "\n",
    "Pointwise Layer:  \n",
    "Input Shape = 10x24x24  \n",
    "No. of kernels = 5  \n",
    "Output Shape = 5x24x24  \n",
    "\n",
    "FLOPs: 5x1x1x10x24x24x2 = 57,600  \n",
    "\n",
    "Total FLOPs = 103680 + 57600 = 161,280  "
   ]
  },
  {
   "cell_type": "markdown",
   "metadata": {
    "editable": true
   },
   "source": [
    "#### Layer 3: Fully Connected\n",
    "Number of neurons: 128  "
   ]
  },
  {
   "cell_type": "markdown",
   "metadata": {
    "editable": true,
    "toggleable": true,
    "ulab": {
     "buttons": {
      "ulab-button-toggle-5dcde73b": {
       "style": "primary"
      }
     }
    }
   },
   "source": [
    "Input shape: 24x24x5: 2880  \n",
    "FLOPs: 2880x128x2 = 737,280  "
   ]
  },
  {
   "cell_type": "markdown",
   "metadata": {
    "editable": true
   },
   "source": [
    "#### Layer 4: Fully Connected\n",
    "Input Shape: 128  \n",
    "Output Shape: 10  "
   ]
  },
  {
   "cell_type": "markdown",
   "metadata": {
    "editable": true,
    "toggleable": true,
    "ulab": {
     "buttons": {
      "ulab-button-toggle-55c1bb58": {
       "style": "primary"
      }
     }
    }
   },
   "source": [
    "FLOPS: 128x10x2 = 2560 "
   ]
  },
  {
   "cell_type": "markdown",
   "metadata": {
    "editable": true,
    "ulab": {
     "buttons": {
      "ulab-button-2073d4d0": {
       "bashCommand": "source /opt/intel/openvino/bin/setupvars.sh -pyver 3.5",
       "filesToOpen": [],
       "isPreviewButton": false,
       "runInBackground": false,
       "style": "primary",
       "text": "Source OpenVINO Environment",
       "toggleOffText": "HIDE SOLUTION",
       "toggleOnText": "SHOW SOLUTION"
      }
     }
    }
   },
   "source": [
    "### Task 2: Completing the Inference Pipeline\n",
    "Complete the `inference.py` python script on the right.\n",
    "\n",
    "Remember to source the OpenVINO environment before running the python script.\n",
    "\n",
    "<button id=\"ulab-button-2073d4d0\" class=\"ulab-btn--primary\"></button>"
   ]
  },
  {
   "cell_type": "markdown",
   "metadata": {
    "editable": true
   },
   "source": [
    "To run the `inference.py` file, you can use the command:  \n",
    "```python3 inference.py```\n",
    "\n",
    "**Note:** You may get a warning about OpenVINO using a different Python version. You can ignore this warning, the inference should still run fine."
   ]
  },
  {
   "cell_type": "markdown",
   "metadata": {
    "editable": true,
    "toggleable": true,
    "ulab": {
     "buttons": {
      "ulab-button-toggle-7506080e": {
       "bashCommand": "",
       "filesToOpen": [],
       "isPreviewButton": false,
       "runInBackground": false,
       "style": "primary",
       "text": "",
       "toggleOffText": "HIDE SOLUTION",
       "toggleOnText": "SHOW SOLUTION CODE"
      }
     }
    }
   },
   "source": [
    "```python\n",
    "from openvino.inference_engine import IENetwork, IECore\n",
    "\n",
    "import numpy as np\n",
    "import time\n",
    "\n",
    "# Getting model bin and xml file\n",
    "model_path='sep_cnn/sep_cnn'\n",
    "model_weights=model_path+'.bin'\n",
    "model_structure=model_path+'.xml'\n",
    "\n",
    "model=IENetwork(model_structure, model_weights)\n",
    "\n",
    "core = IECore()\n",
    "net = core.load_network(network=model, device_name='CPU', num_requests=1)\n",
    "\n",
    "input_name=next(iter(model.inputs))\n",
    "\n",
    "# Reading and Preprocessing Image\n",
    "input_img=np.load('image.npy')\n",
    "input_img=input_img.reshape(1, 28, 28)\n",
    "\n",
    "\n",
    "input_dict={input_name:input_img}\n",
    "\n",
    "start=time.time()\n",
    "for _ in range(10):\n",
    "    net.infer(input_dict)\n",
    "\n",
    "\n",
    "# TODO: Finish the print statement\n",
    "print(\"Time taken to run 10 iterations is: {} seconds\".format(time.time()-start))\n",
    "```"
   ]
  }
 ],
 "metadata": {
  "kernelspec": {
   "display_name": "Python 3",
   "language": "python",
   "name": "python3"
  },
  "language_info": {
   "codemirror_mode": {
    "name": "ipython",
    "version": 3
   },
   "file_extension": ".py",
   "mimetype": "text/x-python",
   "name": "python",
   "nbconvert_exporter": "python",
   "pygments_lexer": "ipython3",
   "version": "3.6.3"
  },
  "ulab_nb_type": "guided"
 },
 "nbformat": 4,
 "nbformat_minor": 4
}
