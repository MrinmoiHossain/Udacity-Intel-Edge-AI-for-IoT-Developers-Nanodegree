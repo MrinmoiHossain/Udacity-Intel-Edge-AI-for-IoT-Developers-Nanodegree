{
 "cells": [
  {
   "cell_type": "markdown",
   "metadata": {
    "editable": true,
    "ulab": {
     "buttons": {
      "ulab-button-1f07fc1c": {
       "bashCommand": "source /opt/intel/openvino/bin/setupvars.sh -pyver 3.5",
       "filesToOpen": [],
       "isPreviewButton": false,
       "runInBackground": false,
       "style": "primary",
       "text": "RIGHT CLICK ME",
       "toggleOffText": "HIDE SOLUTION",
       "toggleOnText": "SHOW SOLUTION"
      }
     }
    }
   },
   "source": [
    "# Exercise: Pooling Performance\n",
    "\n",
    "For this exercise, your first task will be to calculate the total number of FLOPs for the `pool_cnn` model given below. Your second task will be to run this model and measure the inference time."
   ]
  },
  {
   "cell_type": "markdown",
   "metadata": {
    "editable": true
   },
   "source": [
    "<img src=\"https://video.udacity-data.com/topher/2020/April/5e989915_l3-slides-poolin/l3-slides-poolin.jpg\" alt=\"conv output\">"
   ]
  },
  {
   "cell_type": "markdown",
   "metadata": {
    "editable": true,
    "ulab": {
     "buttons": {
      "ulab-button-07aec2df": {
       "bashCommand": "",
       "filesToOpen": [],
       "isPreviewButton": false,
       "runInBackground": false,
       "text": "RIGHT CLICK ME"
      },
      "ulab-button-8ab49cc0": {
       "bashCommand": "",
       "filesToOpen": [],
       "isPreviewButton": false,
       "runInBackground": false,
       "text": "RIGHT CLICK ME"
      }
     }
    }
   },
   "source": [
    "## Task 1: Calculate Model FLOPs\n",
    "\n",
    "#### Layer 1: Conv2D\n",
    "Input shape: 1x1x28x28  \n",
    "Kernel shape: 3x3  \n",
    "Number of kernels: 10  \n"
   ]
  },
  {
   "cell_type": "markdown",
   "metadata": {
    "editable": true,
    "toggleable": true,
    "ulab": {
     "buttons": {
      "ulab-button-toggle-986925b8": {
       "style": "primary"
      }
     }
    }
   },
   "source": [
    "Output shape:  \n",
    "The shape for a single dimension will be = (28-3)+1 = 26  \n",
    "So our output shape will be 26x26  \n",
    "Because we have 10 kernels, our actual output shape will be 10x26x26  \n",
    "\n",
    "FLOPs: 10x26x26x3x3x1x2 = 121,680"
   ]
  },
  {
   "cell_type": "markdown",
   "metadata": {
    "editable": true
   },
   "source": [
    "#### Layer 2: Average Pool 2D  \n",
    "Input Shape: 10x26x26  \n",
    "Kernel Shape: 2x2"
   ]
  },
  {
   "cell_type": "markdown",
   "metadata": {
    "editable": true,
    "toggleable": true,
    "ulab": {
     "buttons": {
      "ulab-button-toggle-8be02242": {
       "style": "primary"
      }
     }
    }
   },
   "source": [
    "Output Shape: 10x13x13\n",
    "\n",
    "FLOPs: 13x13x2x2x10 = 6,760"
   ]
  },
  {
   "cell_type": "markdown",
   "metadata": {
    "editable": true
   },
   "source": [
    "#### Layer 3: Conv2D\n",
    "Input shape: 10x13x13  \n",
    "Kernel shape: 3x3  \n",
    "Number of kernels: 5"
   ]
  },
  {
   "cell_type": "markdown",
   "metadata": {
    "editable": true,
    "toggleable": true,
    "ulab": {
     "buttons": {
      "ulab-button-toggle-6c08ad1a": {
       "style": "primary"
      }
     }
    }
   },
   "source": [
    "Output shape:  \n",
    "The shape for a single dimension will be = (13-3)+1 = 11  \n",
    "So our output shape will be 11x11  \n",
    "Because we have 5 kernels, our actual output shape will be 5x11x11  \n",
    "\n",
    "FLOPs: 5x11x11x3x3x10x2 = 108,900"
   ]
  },
  {
   "cell_type": "markdown",
   "metadata": {
    "editable": true
   },
   "source": [
    "#### Layer 4: Fully Connected\n",
    "Input shape: 11x11x5: 605  \n",
    "Output shape: 128  "
   ]
  },
  {
   "cell_type": "markdown",
   "metadata": {
    "editable": true,
    "toggleable": true,
    "ulab": {
     "buttons": {
      "ulab-button-toggle-5915335d": {
       "style": "primary"
      }
     }
    }
   },
   "source": [
    "FLOPs: 605x128x2 = 154,880"
   ]
  },
  {
   "cell_type": "markdown",
   "metadata": {
    "editable": true
   },
   "source": [
    "#### Layer 5: Fully Connected\n",
    "Input Shape: 128  \n",
    "Output Shape: 10"
   ]
  },
  {
   "cell_type": "markdown",
   "metadata": {
    "editable": true,
    "toggleable": true,
    "ulab": {
     "buttons": {
      "ulab-button-toggle-5cf69d0a": {
       "style": "primary"
      }
     }
    }
   },
   "source": [
    "FLOPs: 128x10x2 = 2560\n",
    "\n",
    "Total FLOPs: 121680+6760+108900+154880+2560 = 394,780"
   ]
  },
  {
   "cell_type": "markdown",
   "metadata": {
    "editable": true,
    "ulab": {
     "buttons": {
      "ulab-button-1b6ee7a3": {
       "bashCommand": "source /opt/intel/openvino/bin/setupvars.sh -pyver 3.5",
       "filesToOpen": [],
       "isPreviewButton": false,
       "runInBackground": false,
       "style": "primary",
       "text": "Source OpenVINO Environment",
       "toggleOffText": "HIDE SOLUTION",
       "toggleOnText": "SHOW SOLUTION"
      }
     }
    }
   },
   "source": [
    "### Task 2: Completing the Inference Pipeline\n",
    "Your next task is to complete the `inference.py` python script on the right.\n",
    "\n",
    "\n",
    "Remember to source the OpenVINO environment before running the script.\n",
    "\n",
    "\n",
    "<button id=\"ulab-button-1b6ee7a3\" class=\"ulab-btn--primary\"></button>"
   ]
  },
  {
   "cell_type": "markdown",
   "metadata": {
    "editable": true
   },
   "source": [
    "To run the `inference.py` file, you can use the command:  \n",
    "```python3 inference.py```\n",
    "\n",
    "**Note:** You may get a warning about OpenVINO using a different Python version. You can ignore this warning, the inference should still run fine."
   ]
  },
  {
   "cell_type": "markdown",
   "metadata": {
    "editable": true,
    "toggleable": true,
    "ulab": {
     "buttons": {
      "ulab-button-toggle-bcd6d968": {
       "bashCommand": "",
       "filesToOpen": [],
       "isPreviewButton": false,
       "runInBackground": false,
       "style": "primary",
       "text": "",
       "toggleOffText": "HIDE SOLUTION",
       "toggleOnText": "SHOW SOLUTION CODE"
      }
     }
    }
   },
   "source": [
    "```python\n",
    "from openvino.inference_engine import IENetwork, IECore\n",
    "\n",
    "import numpy as np\n",
    "import time\n",
    "\n",
    "# Getting model bin and xml file\n",
    "model_path='pool_cnn/pool_cnn'\n",
    "model_weights=model_path+'.bin'\n",
    "model_structure=model_path+'.xml'\n",
    "\n",
    "model=IENetwork(model_structure, model_weights)\n",
    "\n",
    "core = IECore()\n",
    "net = core.load_network(network=model, device_name='CPU', num_requests=1)\n",
    "\n",
    "input_name=next(iter(model.inputs))\n",
    "\n",
    "# Reading and Preprocessing Image\n",
    "input_img=np.load('image.npy')\n",
    "input_img=input_img.reshape(1, 28, 28)\n",
    "\n",
    "\n",
    "input_dict={input_name:input_img}\n",
    "\n",
    "start=time.time()\n",
    "for _ in range(10):\n",
    "    net.infer(input_dict)\n",
    "\n",
    "\n",
    "print(\"Time taken to run 10 iterations is: {} seconds\".format(time.time()-start))\n",
    "```"
   ]
  }
 ],
 "metadata": {
  "kernelspec": {
   "display_name": "Python 3",
   "language": "python",
   "name": "python3"
  },
  "language_info": {
   "codemirror_mode": {
    "name": "ipython",
    "version": 3
   },
   "file_extension": ".py",
   "mimetype": "text/x-python",
   "name": "python",
   "nbconvert_exporter": "python",
   "pygments_lexer": "ipython3",
   "version": "3.6.3"
  },
  "ulab_nb_type": "guided"
 },
 "nbformat": 4,
 "nbformat_minor": 4
}
