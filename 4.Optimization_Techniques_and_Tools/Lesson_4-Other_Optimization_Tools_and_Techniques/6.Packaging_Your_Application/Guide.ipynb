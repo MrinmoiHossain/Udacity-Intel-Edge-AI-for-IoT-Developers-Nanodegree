{
 "cells": [
  {
   "cell_type": "markdown",
   "metadata": {
    "editable": true
   },
   "source": [
    "# Packaging your Application\n",
    "\n",
    "In this exercise we will see how we can use the Deployment Manager present in OpenVINO create a runtime package from our application. These packages can be easily sent to other hardware devices to be deployed.\n",
    "\n",
    "In the video, I will be creating a runtime package of the `vtune_project`. To follow along, you can either use the same project (it is present as a folder in this workspace), or you can upload your own application and create a runtime package from it.\n",
    "\n",
    "You can find detailed instructions about the Deployment Manager [here](https://docs.openvinotoolkit.org/latest/_docs_install_guides_deployment_manager_tool.html)\n"
   ]
  },
  {
   "cell_type": "markdown",
   "metadata": {
    "editable": true
   },
   "source": [
    "## Try it!"
   ]
  },
  {
   "cell_type": "markdown",
   "metadata": {
    "editable": true,
    "ulab": {
     "buttons": {
      "ulab-button-be78a649": {
       "bashCommand": "source /opt/intel/openvino/bin/setupvars.sh -pyver 3.5",
       "filesToOpen": [],
       "isPreviewButton": false,
       "runInBackground": false,
       "style": "primary",
       "text": "Source OpenVINO Environment",
       "toggleOffText": "HIDE SOLUTION",
       "toggleOnText": "SHOW SOLUTION"
      }
     }
    }
   },
   "source": [
    "To source the OpenVINO environment, click the button below\n",
    "\n",
    "<button id=\"ulab-button-be78a649\" class=\"ulab-btn--primary\"></button>"
   ]
  },
  {
   "cell_type": "markdown",
   "metadata": {
    "editable": true
   },
   "source": [
    "Now, follow along with the video below. Be sure to try the following:\n",
    "* Start the Deployment Manager in interactive mode\n",
    "* Select the hardware where you want to deploy your model\n",
    "* Select the folder containing your application code, models, and data"
   ]
  },
  {
   "cell_type": "markdown",
   "metadata": {
    "editable": true,
    "video": {
     "duration": 177,
     "id": "105742",
     "subtitles": [],
     "topher_id": "3d586320-6818-11ea-80a5-0242ac110003",
     "transcodings": {
      "uri_480p_1000kbps_mp4": "https://video.udacity-data.com/topher/2020/March/5e706d96_nd131-c03-l03-a06-packaging-your-application/nd131-c03-l03-a06-packaging-your-application_480p_1000kbps.mp4",
      "uri_480p_mp4": "https://video.udacity-data.com/topher/2020/March/5e706d96_nd131-c03-l03-a06-packaging-your-application/nd131-c03-l03-a06-packaging-your-application_480p.mp4",
      "uri_720p_mp4": "https://video.udacity-data.com/topher/2020/March/5e706d96_nd131-c03-l03-a06-packaging-your-application/nd131-c03-l03-a06-packaging-your-application_720p.mp4",
      "uri_hls": "https://video.udacity-data.com/topher/2020/March/5e706d96_nd131-c03-l03-a06-packaging-your-application/hls/playlist.m3u8"
     },
     "youtube_id": "AsAsbDJ4ebY"
    }
   },
   "source": []
  },
  {
   "cell_type": "markdown",
   "metadata": {
    "editable": true
   },
   "source": [
    "## Quiz Yourself\n",
    "\n",
    "Which of the following can be included in the package created by the deployment manager?\n",
    "\n",
    "(For each of the options below, get some mental practice by thinking about whether it should be **included** or **not included**, and then click on the button to see if you are correct.)"
   ]
  },
  {
   "cell_type": "markdown",
   "metadata": {
    "editable": true,
    "toggleable": true,
    "ulab": {
     "buttons": {
      "ulab-button-toggle-9b805126": {
       "bashCommand": "",
       "filesToOpen": [],
       "isPreviewButton": false,
       "runInBackground": false,
       "style": "primary",
       "text": "",
       "toggleOffText": "Application Code",
       "toggleOnText": "Application Code"
      }
     }
    }
   },
   "source": [
    "**Included!** Your application code is what loads the model and runs inference and it needs to be a part of the runtime package."
   ]
  },
  {
   "cell_type": "markdown",
   "metadata": {
    "editable": true,
    "toggleable": true,
    "ulab": {
     "buttons": {
      "ulab-button-toggle-bced845d": {
       "bashCommand": "",
       "filesToOpen": [],
       "isPreviewButton": false,
       "runInBackground": false,
       "style": "primary",
       "text": "",
       "toggleOffText": "Models",
       "toggleOnText": "Models"
      }
     }
    }
   },
   "source": [
    "**Included!** Any model used by the application can be added to the runtime package. It is good practice to add this since your deployment device might not have an internet connection to be able to download the model. Moreover, by packaging both your application code and model together, you can get an idea of the total memory your deployment device will need."
   ]
  },
  {
   "cell_type": "markdown",
   "metadata": {
    "editable": true,
    "toggleable": true,
    "ulab": {
     "buttons": {
      "ulab-button-toggle-e9bee0c2": {
       "bashCommand": "",
       "filesToOpen": [],
       "isPreviewButton": false,
       "runInBackground": false,
       "style": "primary",
       "text": "",
       "toggleOffText": "VTune Amplifier",
       "toggleOnText": "VTune Amplifier"
      }
     }
    }
   },
   "source": [
    "**Not included.** The VTune Amplifier is used only to check whether your application has any hotspots and can be use to optimize your application code. This is not included in the runtime package and should only be used before deploying to check the performance of your application."
   ]
  },
  {
   "cell_type": "markdown",
   "metadata": {
    "editable": true,
    "toggleable": true,
    "ulab": {
     "buttons": {
      "ulab-button-toggle-91b6d54f": {
       "bashCommand": "",
       "filesToOpen": [],
       "isPreviewButton": false,
       "runInBackground": false,
       "style": "primary",
       "text": "",
       "toggleOffText": "OpenVINO Toolkit",
       "toggleOnText": "OpenVINO Toolkit"
      }
     }
    }
   },
   "source": [
    "**Included!** The runtime package will contain all the necessary parts of the OpenVINO toolkit that is needed to run your application code."
   ]
  }
 ],
 "metadata": {
  "kernelspec": {
   "display_name": "Python 3",
   "language": "python",
   "name": "python3"
  },
  "language_info": {
   "codemirror_mode": {
    "name": "ipython",
    "version": 3
   },
   "file_extension": ".py",
   "mimetype": "text/x-python",
   "name": "python",
   "nbconvert_exporter": "python",
   "pygments_lexer": "ipython3",
   "version": "3.6.3"
  },
  "ulab_nb_type": "guided"
 },
 "nbformat": 4,
 "nbformat_minor": 4
}
