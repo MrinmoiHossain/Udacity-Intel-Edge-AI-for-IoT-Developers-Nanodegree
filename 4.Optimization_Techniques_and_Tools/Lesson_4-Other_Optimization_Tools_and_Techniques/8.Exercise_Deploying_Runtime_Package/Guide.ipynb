{
 "cells": [
  {
   "cell_type": "markdown",
   "metadata": {
    "editable": true
   },
   "source": [
    "# Exercise: Deploying Runtime Package\n",
    "\n",
    "In this exercise, we will try to deploy the runtime package we created in the previous exercise on the CPU present in this Workspace. \n",
    "\n",
    "The runtime package of the `vtune_project` has already been uploaded in the workspace. If you want to deploy your own application, then you can upload it and try it out.\n",
    "\n",
    "You will find detailed instructions on how to deploy your runtime package [here](https://docs.openvinotoolkit.org/latest/_docs_install_guides_deployment_manager_tool.html).\n",
    "\n",
    "**Note**: In case you get stuck (or just want some additional explanation), you'll find a full walkthrough video at the end of these instructions."
   ]
  },
  {
   "cell_type": "markdown",
   "metadata": {
    "editable": true,
    "ulab": {
     "buttons": {
      "ulab-button-be78a649": {
       "bashCommand": "source /opt/intel/openvino/bin/setupvars.sh -pyver 3.5",
       "filesToOpen": [],
       "isPreviewButton": false,
       "runInBackground": false,
       "style": "primary",
       "text": "Source OpenVINO Environment",
       "toggleOffText": "HIDE SOLUTION",
       "toggleOnText": "SHOW SOLUTION"
      }
     }
    }
   },
   "source": [
    "## Try It!\n",
    "\n",
    "To source the OpenVINO environment, click the button below:\n",
    "\n",
    "<button id=\"ulab-button-be78a649\" class=\"ulab-btn--primary\"></button>"
   ]
  },
  {
   "cell_type": "markdown",
   "metadata": {
    "editable": true
   },
   "source": [
    "Be sure to try the following:\n",
    "- Uncompress the runtime package\n",
    "- Install the dependencies present in the `/openvino/install_dependencies` folder of the uncompressed runtime package\n",
    "- Source the OpenVINO Environment present in `/bin/setupvars.sh`\n",
    "- Deploy the application on the CPU on this workspace"
   ]
  },
  {
   "cell_type": "markdown",
   "metadata": {
    "editable": true,
    "toggleable": true,
    "ulab": {
     "buttons": {
      "ulab-button-toggle-89bffe30": {
       "bashCommand": "",
       "filesToOpen": [],
       "isPreviewButton": false,
       "runInBackground": false,
       "style": "primary",
       "text": "",
       "toggleOffText": "HIDE VIDEO WALKTHROUGH",
       "toggleOnText": "SHOW VIDEO WALKTHROUGH"
      }
     }
    },
    "video": {
     "duration": 93,
     "id": "105964",
     "subtitles": [],
     "topher_id": "736531c0-6d7c-11ea-99b8-0242ac110010",
     "transcodings": {
      "uri_480p_1000kbps_mp4": "https://video.udacity-data.com/topher/2020/March/5e797932_nd131-c03-l03-a07-solution-deploying-runtime-package-v2/nd131-c03-l03-a07-solution-deploying-runtime-package-v2_480p_1000kbps.mp4",
      "uri_480p_mp4": "https://video.udacity-data.com/topher/2020/March/5e797932_nd131-c03-l03-a07-solution-deploying-runtime-package-v2/nd131-c03-l03-a07-solution-deploying-runtime-package-v2_480p.mp4",
      "uri_720p_mp4": "https://video.udacity-data.com/topher/2020/March/5e797932_nd131-c03-l03-a07-solution-deploying-runtime-package-v2/nd131-c03-l03-a07-solution-deploying-runtime-package-v2_720p.mp4",
      "uri_hls": "https://video.udacity-data.com/topher/2020/March/5e797932_nd131-c03-l03-a07-solution-deploying-runtime-package-v2/hls/playlist.m3u8"
     },
     "youtube_id": "swVzqT56VnQ"
    }
   },
   "source": []
  }
 ],
 "metadata": {
  "kernelspec": {
   "display_name": "Python 3",
   "language": "python",
   "name": "python3"
  },
  "language_info": {
   "codemirror_mode": {
    "name": "ipython",
    "version": 3
   },
   "file_extension": ".py",
   "mimetype": "text/x-python",
   "name": "python",
   "nbconvert_exporter": "python",
   "pygments_lexer": "ipython3",
   "version": "3.6.3"
  },
  "ulab_nb_type": "guided"
 },
 "nbformat": 4,
 "nbformat_minor": 4
}
