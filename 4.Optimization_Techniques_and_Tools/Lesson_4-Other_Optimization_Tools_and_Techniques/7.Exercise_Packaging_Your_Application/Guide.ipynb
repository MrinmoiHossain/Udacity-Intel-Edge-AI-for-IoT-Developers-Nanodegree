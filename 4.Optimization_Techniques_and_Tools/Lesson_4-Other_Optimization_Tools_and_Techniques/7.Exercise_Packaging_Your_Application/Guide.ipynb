{
 "cells": [
  {
   "cell_type": "markdown",
   "metadata": {
    "editable": true,
    "ulab": {
     "buttons": {
      "ulab-button-9627e9c3": {
       "bashCommand": "source /opt/intel/openvino/bin/setupvars.sh -pyver 3.5",
       "filesToOpen": [],
       "isPreviewButton": false,
       "runInBackground": false,
       "style": "primary",
       "text": "Source OpenVINO Environment",
       "toggleOffText": "HIDE SOLUTION",
       "toggleOnText": "SHOW SOLUTION"
      }
     }
    }
   },
   "source": [
    "# Exercise: Packaging your Application\n",
    "\n",
    "For this exercise, you need to create a runtime package of either one of your application code, or the `vtune_project` folder present in this workspace.\n",
    "\n",
    "However, this time, instead of using the interactive mode to create your application, can you use the CLI mode?\n",
    "\n",
    "**Note**: In case you get stuck (or just want some additional explanation), you'll find a full walkthrough video at the end of this guide.\n",
    "\n",
    "## Try It!\n",
    "\n",
    "To source the OpenVINO environment, click the button below\n",
    "\n",
    "<button id=\"ulab-button-9627e9c3\" class=\"ulab-btn--primary\"></button>"
   ]
  },
  {
   "cell_type": "markdown",
   "metadata": {
    "editable": true
   },
   "source": [
    "Now try the following:\n",
    "\n",
    "- Create a runtime package using the Deployment Manager in CLI mode\n",
    "- If you like, try creating a runtime package of your own application (like something you built in the lesson on reducing model operations)"
   ]
  },
  {
   "cell_type": "markdown",
   "metadata": {
    "editable": true,
    "toggleable": true,
    "ulab": {
     "buttons": {
      "ulab-button-toggle-01cd5acb": {
       "bashCommand": "",
       "filesToOpen": [],
       "isPreviewButton": false,
       "runInBackground": false,
       "style": "primary",
       "text": "",
       "toggleOffText": "HIDE VIDEO WALKTHROUGH",
       "toggleOnText": "SHOW VIDEO WALKTHROUGH"
      }
     }
    },
    "video": {
     "duration": 124,
     "id": "105965",
     "subtitles": [],
     "topher_id": "8d5f92f0-6d7c-11ea-99b8-0242ac110010",
     "transcodings": {
      "uri_480p_1000kbps_mp4": "https://video.udacity-data.com/topher/2020/March/5e79795e_nd131-c03-l03-a08-solution-packaging-your-application-v2/nd131-c03-l03-a08-solution-packaging-your-application-v2_480p_1000kbps.mp4",
      "uri_480p_mp4": "https://video.udacity-data.com/topher/2020/March/5e79795e_nd131-c03-l03-a08-solution-packaging-your-application-v2/nd131-c03-l03-a08-solution-packaging-your-application-v2_480p.mp4",
      "uri_720p_mp4": "https://video.udacity-data.com/topher/2020/March/5e79795e_nd131-c03-l03-a08-solution-packaging-your-application-v2/nd131-c03-l03-a08-solution-packaging-your-application-v2_720p.mp4",
      "uri_hls": "https://video.udacity-data.com/topher/2020/March/5e79795e_nd131-c03-l03-a08-solution-packaging-your-application-v2/hls/playlist.m3u8"
     },
     "youtube_id": "FTPFiBKjzL0"
    }
   },
   "source": []
  },
  {
   "cell_type": "markdown",
   "metadata": {
    "editable": true
   },
   "source": [
    "## Quiz Yourself\n",
    "\n",
    "True or False: A single runtime package can be deployed to different devices like a VPU, FPGA and Int. GPU."
   ]
  },
  {
   "cell_type": "markdown",
   "metadata": {
    "editable": true,
    "toggleable": true,
    "ulab": {
     "buttons": {
      "ulab-button-toggle-993c8c00": {
       "bashCommand": "",
       "filesToOpen": [],
       "isPreviewButton": false,
       "runInBackground": false,
       "style": "primary",
       "text": "",
       "toggleOffText": "Correct!",
       "toggleOnText": "TRUE"
      }
     }
    }
   },
   "source": [
    "**Correct!** As long as you select all the hardwares you wish to deploy to when creating the runtime package, you can deploy it to those selected devices."
   ]
  },
  {
   "cell_type": "markdown",
   "metadata": {
    "editable": true,
    "toggleable": true,
    "ulab": {
     "buttons": {
      "ulab-button-toggle-4bf911a2": {
       "bashCommand": "",
       "filesToOpen": [],
       "isPreviewButton": false,
       "runInBackground": false,
       "style": "primary",
       "text": "",
       "toggleOffText": "Incorrect",
       "toggleOnText": "FALSE"
      }
     }
    }
   },
   "source": [
    "**Incorrect.** Runtime packages can be made for deployment to multiple devices as long as those devices are selected when creating the package."
   ]
  }
 ],
 "metadata": {
  "kernelspec": {
   "display_name": "Python 3",
   "language": "python",
   "name": "python3"
  },
  "language_info": {
   "codemirror_mode": {
    "name": "ipython",
    "version": 3
   },
   "file_extension": ".py",
   "mimetype": "text/x-python",
   "name": "python",
   "nbconvert_exporter": "python",
   "pygments_lexer": "ipython3",
   "version": "3.6.3"
  },
  "ulab_nb_type": "guided"
 },
 "nbformat": 4,
 "nbformat_minor": 4
}
